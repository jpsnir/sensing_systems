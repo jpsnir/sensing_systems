{
 "cells": [
  {
   "cell_type": "markdown",
   "metadata": {},
   "source": [
    "Notes in the following documents:\n",
    "1. https://courses.cs.washington.edu/courses/cse576/17sp/notes/CamerasStereo17.pdf\n",
    "2. https://www.cs.cmu.edu/~16385/s17/Slides/13.1_Stereo_Rectification.pdf\n"
   ]
  },
  {
   "cell_type": "code",
   "execution_count": 69,
   "metadata": {},
   "outputs": [
    {
     "name": "stdout",
     "output_type": "stream",
     "text": [
      "4.5.5\n"
     ]
    }
   ],
   "source": [
    "import numpy as np\n",
    "import cv2 as cv\n",
    "import sys\n",
    "import os\n",
    "from pathlib import Path\n",
    "from typing import Dict, Tuple\n",
    "from numpy.testing import assert_allclose, assert_almost_equal\n",
    "np.set_printoptions(precision=4)\n",
    "np.set_printoptions(suppress=True)\n",
    "print(cv.__version__)\n",
    "image_shape = (752, 480)"
   ]
  },
  {
   "cell_type": "code",
   "execution_count": 70,
   "metadata": {},
   "outputs": [],
   "source": [
    "def euroc_stereo_cam_configuration() -> Tuple[Dict, Dict]:\n",
    "    \"\"\"\n",
    "    Defines the stereo cam configuration of EUROC setup.\n",
    "    \"\"\"\n",
    "\n",
    "    \n",
    "    # instrinsic parameters\n",
    "    K_l = np.array([[458.654, 0.0, 367.215], \n",
    "                    [0.0, 457.296, 248.375], \n",
    "                    [0.0, 0.0, 1.0],\n",
    "    ])\n",
    "\n",
    "    K_r = np.array([[457.587, 0.0, 379.999],\n",
    "                    [0.0, 456.134, 255.238],\n",
    "                    [0.0, 0.0, 1]\n",
    "    ])\n",
    "    # transformations \n",
    "    T_B_C0 = np.array([\n",
    "        [0.0148655429818, -0.999880929698, 0.00414029679422, -0.0216401454975],\n",
    "        [0.999557249008, 0.0149672133247, 0.025715529948, -0.064676986768],\n",
    "        [-0.0257744366974, 0.00375618835797, 0.999660727178, 0.00981073058949],\n",
    "        [ 0.0, 0.0, 0.0, 1.0]\n",
    "    ])\n",
    "\n",
    "    T_B_C1 = np.array([\n",
    "        [0.0125552670891, -0.999755099723, 0.0182237714554, -0.0198435579556],\n",
    "        [0.999598781151, 0.0130119051815, 0.0251588363115, 0.0453689425024],\n",
    "        [-0.0253898008918, 0.0179005838253, 0.999517347078, 0.00786212447038],\n",
    "        [0.0, 0.0, 0.0, 1.0]\n",
    "    ])\n",
    "\n",
    "    # Rotation parameters\n",
    "    R_l = np.array([\n",
    "         [0.999966347530033, -0.001422739138722922, 0.008079580483432283], \n",
    "         [0.001365741834644127, 0.9999741760894847, 0.007055629199258132], \n",
    "        [-0.008089410156878961, -0.007044357138835809, 0.9999424675829176],\n",
    "    ])\n",
    "\n",
    "    R_r = np.array([\n",
    "         [0.9999633526194376, -0.003625811871560086, 0.007755443660172947], \n",
    "         [0.003680398547259526, 0.9999684752771629, -0.007035845251224894], \n",
    "        [-0.007729688520722713, 0.007064130529506649, 0.999945173484644],\n",
    "    ])\n",
    "\n",
    "    # distortion parameter\n",
    "    # \n",
    "    d_l = np.array([-0.28340811, 0.07395907, 0.00019359, 1.76187114e-05, 0.0])\n",
    "    d_r = np.array([-0.28368365, 0.07451284, -0.00010473, -3.555907e-05, 0.0])\n",
    "\n",
    "    # Projection\n",
    "    P_l = np.array([[435.2046959714599, 0, 367.4517211914062, 0],  \n",
    "                    [0, 435.2046959714599, 252.2008514404297, 0],  \n",
    "                    [0, 0, 1, 0]\n",
    "    ])\n",
    "\n",
    "    P_r = np.array([[435.2046959714599, 0, 367.4517211914062, -47.90639384423901],\n",
    "                    [ 0, 435.2046959714599, 252.2008514404297, 0], \n",
    "                    [0, 0, 1, 0]])\n",
    "    cam_L = {'T' : T_B_C0, 'k': K_l, 'd': d_l, 'R': R_l, 'P': P_l}\n",
    "    cam_R = {'T' : T_B_C1, 'k': K_r, 'd': d_r, 'R': R_r, 'P': P_r}\n",
    "    return cam_L, cam_R\n",
    "\n",
    "def rectification_map(cam_L:Dict, cam_R: Dict, image_shape) -> Tuple[np.ndarray, np.ndarray]:\n",
    "    \"\"\"\n",
    "    \"\"\"\n",
    "    map_l = cv.initUndistortRectifyMap(cam_L['k'], cam_L['d'], cam_L['R'], cam_L['P'], image_shape, cv.CV_32F)\n",
    "    map_r = cv.initUndistortRectifyMap(cam_R['k'], cam_R['d'], cam_R['R'], cam_R['P'], image_shape, cv.CV_32F)\n",
    "    print(f\"Shape of undistort map in stereo camera: {map_l.shape}\")\n",
    "    return map_l, map_r "
   ]
  },
  {
   "cell_type": "code",
   "execution_count": 71,
   "metadata": {},
   "outputs": [
    {
     "name": "stdout",
     "output_type": "stream",
     "text": [
      "\n",
      "Left camera\n",
      "\n",
      "T = \n",
      " [[ 0.0149 -0.9999  0.0041 -0.0216]\n",
      " [ 0.9996  0.015   0.0257 -0.0647]\n",
      " [-0.0258  0.0038  0.9997  0.0098]\n",
      " [ 0.      0.      0.      1.    ]]\n",
      "k = \n",
      " [[458.654   0.    367.215]\n",
      " [  0.    457.296 248.375]\n",
      " [  0.      0.      1.   ]]\n",
      "d = \n",
      " [-0.2834  0.074   0.0002  0.      0.    ]\n",
      "R = \n",
      " [[ 1.     -0.0014  0.0081]\n",
      " [ 0.0014  1.      0.0071]\n",
      " [-0.0081 -0.007   0.9999]]\n",
      "P = \n",
      " [[435.2047   0.     367.4517   0.    ]\n",
      " [  0.     435.2047 252.2009   0.    ]\n",
      " [  0.       0.       1.       0.    ]]\n",
      "\n",
      "Right camera \n",
      "\n",
      "T = \n",
      " [[ 0.0126 -0.9998  0.0182 -0.0198]\n",
      " [ 0.9996  0.013   0.0252  0.0454]\n",
      " [-0.0254  0.0179  0.9995  0.0079]\n",
      " [ 0.      0.      0.      1.    ]]\n",
      "k = \n",
      " [[457.587   0.    379.999]\n",
      " [  0.    456.134 255.238]\n",
      " [  0.      0.      1.   ]]\n",
      "d = \n",
      " [-0.2837  0.0745 -0.0001 -0.      0.    ]\n",
      "R = \n",
      " [[ 1.     -0.0036  0.0078]\n",
      " [ 0.0037  1.     -0.007 ]\n",
      " [-0.0077  0.0071  0.9999]]\n",
      "P = \n",
      " [[435.2047   0.     367.4517 -47.9064]\n",
      " [  0.     435.2047 252.2009   0.    ]\n",
      " [  0.       0.       1.       0.    ]]\n"
     ]
    }
   ],
   "source": [
    "cam_l, cam_r = euroc_stereo_cam_configuration()\n",
    "print(\"\\nLeft camera\\n\")\n",
    "for k in cam_l.keys():\n",
    "    print(f'{k} = \\n {cam_l[k]}')\n",
    "\n",
    "print(\"\\nRight camera \\n\")\n",
    "for k in cam_r.keys():\n",
    "    print(f'{k} = \\n {cam_r[k]}')\n"
   ]
  },
  {
   "cell_type": "code",
   "execution_count": 72,
   "metadata": {},
   "outputs": [
    {
     "name": "stdout",
     "output_type": "stream",
     "text": [
      "Transformation matrix right wrt left : \n",
      " [[ 1.     -0.0023 -0.0003  0.1101]\n",
      " [ 0.0023  0.9999 -0.0141 -0.0002]\n",
      " [ 0.0004  0.0141  0.9999  0.0009]\n",
      " [ 0.      0.      0.      1.    ]]\n",
      "Rotation matrix matrix right wrt left : \n",
      " [[ 1.     -0.0023 -0.0003]\n",
      " [ 0.0023  0.9999 -0.0141]\n",
      " [ 0.0004  0.0141  0.9999]], \n",
      " Translation between two cameras: \n",
      " [ 0.1101 -0.0002  0.0009]\n",
      "Rotation matrix R : \n",
      " [[ 1.     -0.0023 -0.0003]\n",
      " [ 0.0023  0.9999 -0.0141]\n",
      " [ 0.0004  0.0141  0.9999]]\n",
      "How close are the rotation matrix: \n",
      "True\n"
     ]
    }
   ],
   "source": [
    "R = cam_l['R'].T @ cam_r['R']\n",
    "T_lr = np.linalg.inv(cam_l['T']) @ cam_r['T'] \n",
    "# The translation vector is in the frame of left camera.\n",
    "# so the left camera is relatively an identity matrix here.\n",
    "t_lr = T_lr[:3, 3]\n",
    "R_lr = T_lr[:3, :3]\n",
    "\n",
    "print(f'Transformation matrix right wrt left : \\n { T_lr}')\n",
    "print(f'Rotation matrix matrix right wrt left : \\n { T_lr[:3, :3]}, \\n Translation between two cameras: \\n {t_lr.transpose()}')\n",
    "print(f'Rotation matrix R : \\n {R}')\n",
    "print(f'How close are the rotation matrix: \\n{np.allclose(R, T_lr[:3, :3])}')"
   ]
  },
  {
   "cell_type": "code",
   "execution_count": 73,
   "metadata": {},
   "outputs": [
    {
     "name": "stdout",
     "output_type": "stream",
     "text": [
      "Projection matrices - \n",
      " Left camera = \n",
      " [[458.654   0.    367.215   0.   ]\n",
      " [  0.    457.296 248.375   0.   ]\n",
      " [  0.      0.      1.      0.   ]] \n",
      "\n",
      " right camera: \n",
      " [[457.7286   4.2938 379.8041  50.7065]\n",
      " [  1.1506 459.6838 248.7854   0.1556]\n",
      " [  0.0004   0.0141   0.9999   0.0009]]\n"
     ]
    }
   ],
   "source": [
    "# this matrix represents the perspective transform \n",
    "# many to one mapping - converting points along a ray to point on 2D plane.\n",
    "projection = np.array([\n",
    "    [1, 0, 0, 0],\n",
    "    [0, 1, 0, 0],\n",
    "    [0, 0, 1, 0]]\n",
    ")\n",
    "P_l = cam_l['k'] @ projection @ np.eye(4)\n",
    "P_r = cam_r['k'] @ projection @ T_lr\n",
    "print(f'Projection matrices - \\n Left camera = \\n {P_l} \\n\\n right camera: \\n {P_r}')\n"
   ]
  },
  {
   "cell_type": "markdown",
   "metadata": {},
   "source": [
    "# Epipolar geometry\n",
    "1. Baseline : Line connecting the two camera centers - camera center is not the optical center. \n",
    "2. Epipoles : intersections of baseline with image planes - gives two epipoles.\n",
    "3. Epipolar plane: plane containing baseline\n",
    "4. Epipolar lines: intersection of epipolar plane with image planes.\n",
    "5. When motion is parallel to image plane - no rotational motion between two image planes, baseline is parallel to the image planes as well. So the epipoles are at infinity. \n",
    "6. The epipolar plane family intersects the image plane at same heights.\n",
    "7. Idea: Can we find another plane for a pair of cameras where we can project the image and the images in that plane appear to move parallel.\n",
    "For such a plane, the epipoles are at infinity. And all the points in left image have a correspondence for the right image at same y coordinate of image.\n",
    "8. Image plane L, Image plane R and Image plane rectified are the planes of interest. \n",
    "We need to find a homography for $H_L$ and $H_R$ to get the all image points to rectified plane.\n",
    "\n"
   ]
  },
  {
   "cell_type": "markdown",
   "metadata": {},
   "source": [
    "We already have the Rotation and translation of the stereo camera given to us.\n",
    "So we have not calculated the Essential matrix by matching points and then recovered pose from it.\n",
    "We need to form the rectification matrix R_rect\n",
    "https://www.cs.cmu.edu/~16385/s17/Slides/13.1_Stereo_Rectification.pdf\n",
    "\n",
    "Get the epipole. Epipole is along the line joining the optical centers.\n",
    "Direction of epipole is given this vector.\n",
    "\n",
    "Note: The rectification matrix transforms the epipole to a point at infinity. There are many possibilities for such a transformation but we are trying to find a \n",
    "transformation that causes minimal distortion."
   ]
  },
  {
   "cell_type": "code",
   "execution_count": 89,
   "metadata": {},
   "outputs": [
    {
     "name": "stdout",
     "output_type": "stream",
     "text": [
      "Rotation matrices : \n",
      " R_l = \n",
      " [[ 1.     -0.0014  0.0081]\n",
      " [-0.0014 -1.      0.    ]\n",
      " [-0.0081  0.      0.9999]] \n",
      "\n",
      " R_r = \n",
      " [[ 1.     -0.0036  0.0078]\n",
      " [-0.0037 -0.9999  0.0141]\n",
      " [-0.0077  0.0141  0.9998]]\n",
      "\n",
      " projective matrices computed \n",
      "\n",
      " left camera = \n",
      " [[ 455.6717   -0.6483  370.8968    0.    ]\n",
      " [  -2.6573 -457.2778  248.3588    0.    ]\n",
      " [  -0.0081    0.        0.9999    0.    ]] \n",
      "\n",
      " right camera = \n",
      " [[ 454.643     3.7061  383.4862   50.7065]\n",
      " [  -3.6697 -452.4669  261.6239    0.1556]\n",
      " [  -0.0077    0.0141    0.9998    0.0009]]\n"
     ]
    }
   ],
   "source": [
    "\n",
    "e = t_lr/np.linalg.norm(t_lr)\n",
    "# direction vector of optical axis\n",
    "# Now we are in the camera frame\n",
    "z_l = np.array([0, 0, 1])\n",
    "# Finding three mutually perpendicular axis to get the R_rect\n",
    "# epipole direction of first camera\n",
    "r1 = e\n",
    "r2 = np.cross(z_l, r1)\n",
    "r3 = np.cross(r1, r2)\n",
    "# we got l_R_rect by stacking columnwise\n",
    "R_rect = np.stack((r1, r2, r3), axis = 1)\n",
    "# In opencv, camera 2 is the left camera frame for a stereo setup based on stereocalibrate function,\n",
    "# they are referring as the first and second camera frame.Here we are referring as the left and right camera. \n",
    "# https://stackoverflow.com/questions/61039285/what-camera-is-chosen-as-the-origin-in-cv2-stereocalibrate\n",
    "\n",
    "# transform the left camera points to the rectified frame\n",
    "# we need rect_Rot_l \n",
    "R_l = R_rect.T\n",
    "\n",
    "\n",
    "# we need rect_Rot_r = rect_rot_l * l_rot_r\n",
    "# transforrm the right camera frame to the rectified frame\n",
    "R_r = R_rect.T @ R\n",
    "print(f'Rotation matrices : \\n R_l = \\n {R_l} \\n\\n R_r = \\n {R_r}')\n",
    "P_l = cam_l['k']@ projection @ np.block([[R_l, np.zeros([3, 1])],\n",
    "                                         [np.zeros([1, 3]), 1]])\n",
    "P_r = cam_r['k']@ projection @ np.block([[R_r, t_lr.reshape(3, 1)],\n",
    "                                         [np.zeros([1, 3]), 1]])\n",
    "print(f'\\n projective matrices computed \\n\\n left camera = \\n {P_l} \\n\\n right camera = \\n {P_r}')"
   ]
  },
  {
   "cell_type": "code",
   "execution_count": 90,
   "metadata": {},
   "outputs": [
    {
     "name": "stdout",
     "output_type": "stream",
     "text": [
      "Output from cv function\n",
      " \n",
      " R1 - right camera : \n",
      "[[ 1.     -0.0036  0.0078]\n",
      " [ 0.0037  1.     -0.007 ]\n",
      " [-0.0077  0.0071  0.9999]]\n",
      " \n",
      " R2 - left camera : \n",
      "[[ 1.     -0.0014  0.0081]\n",
      " [ 0.0014  1.      0.0071]\n",
      " [-0.0081 -0.007   0.9999]]\n",
      " \n",
      " P1 - right camera : \n",
      "[[456.715    0.     364.4412   0.    ]\n",
      " [  0.     456.715  256.9517   0.    ]\n",
      " [  0.       0.       1.       0.    ]]\n",
      " \n",
      " P2 - left camera : \n",
      "[[456.715    0.     364.4412  50.2742]\n",
      " [  0.     456.715  256.9517   0.    ]\n",
      " [  0.       0.       1.       0.    ]]\n",
      " \n",
      " Q : \n",
      "[[   1.        0.        0.     -364.4412]\n",
      " [   0.        1.        0.     -256.9517]\n",
      " [   0.        0.        0.      456.715 ]\n",
      " [   0.        0.       -9.0845    0.    ]]\n"
     ]
    }
   ],
   "source": [
    "# to satisfy the convention of opencv\n",
    "R_21 = R_lr\n",
    "t_21 = t_lr\n",
    "# camera 1 - opencv right camera\n",
    "k1 = cam_r['k']\n",
    "d1 = cam_r['d']\n",
    "\n",
    "# camera 2 - opencv left camera\n",
    "k2 = cam_l['k']\n",
    "d2 = cam_l['d']\n",
    "\n",
    "output = cv.stereoRectify(k1, d1, k2, d2 , image_shape, R_21, t_21 )\n",
    "print('Output from cv function')\n",
    "name = ['R1 - right camera', 'R2 - left camera', 'P1 - right camera', 'P2 - left camera', 'Q']\n",
    "for n, o in zip(name, output):\n",
    "    print(f' \\n {n} : \\n{o}')"
   ]
  },
  {
   "cell_type": "code",
   "execution_count": 91,
   "metadata": {},
   "outputs": [
    {
     "name": "stdout",
     "output_type": "stream",
     "text": [
      "projective matrices euroc \n",
      "\n",
      " left camera = \n",
      " [[435.2047   0.     367.4517   0.    ]\n",
      " [  0.     435.2047 252.2009   0.    ]\n",
      " [  0.       0.       1.       0.    ]] \n",
      "\n",
      " right camera = \n",
      " [[435.2047   0.     367.4517 -47.9064]\n",
      " [  0.     435.2047 252.2009   0.    ]\n",
      " [  0.       0.       1.       0.    ]]\n"
     ]
    }
   ],
   "source": [
    "\n",
    "print(f\"projective matrices euroc \\n\\n left camera = \\n {cam_l['P']} \\n\\n right camera = \\n {cam_r['P']}\")\n",
    "#print(f\"How close is computed vs given?  \\n\\n left camera = \\n {np.allclose(cam_l['P'][:3, :3], P_l)} \\n\\n right camera = \\n {np.allclose(cam_r['P'][:3, :3], P_r)}\")"
   ]
  },
  {
   "cell_type": "markdown",
   "metadata": {},
   "source": []
  },
  {
   "cell_type": "code",
   "execution_count": null,
   "metadata": {},
   "outputs": [],
   "source": []
  }
 ],
 "metadata": {
  "kernelspec": {
   "display_name": "Python 3",
   "language": "python",
   "name": "python3"
  },
  "language_info": {
   "codemirror_mode": {
    "name": "ipython",
    "version": 3
   },
   "file_extension": ".py",
   "mimetype": "text/x-python",
   "name": "python",
   "nbconvert_exporter": "python",
   "pygments_lexer": "ipython3",
   "version": "3.8.10"
  }
 },
 "nbformat": 4,
 "nbformat_minor": 2
}
