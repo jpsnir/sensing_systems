{
 "cells": [
  {
   "cell_type": "code",
   "execution_count": 17,
   "metadata": {},
   "outputs": [],
   "source": [
    "import numpy as np\n",
    "import cv2 as cv\n",
    "import sys\n",
    "import os\n",
    "from pathlib import Path\n",
    "from typing import Dict, Tuple\n",
    "from numpy.testing import assert_allclose, assert_almost_equal\n",
    "np.set_printoptions(precision=4)"
   ]
  },
  {
   "cell_type": "code",
   "execution_count": 29,
   "metadata": {},
   "outputs": [],
   "source": [
    "def euroc_stereo_cam_configuration() -> Tuple[Dict, Dict]:\n",
    "    \"\"\"\n",
    "    Defines the stereo cam configuration of EUROC setup.\n",
    "    \"\"\"\n",
    "\n",
    "    image_shape = (752, 480)\n",
    "    # instrinsic parameters\n",
    "    K_l = np.array([[458.654, 0.0, 367.215], \n",
    "                    [0.0, 457.296, 248.375], \n",
    "                    [0.0, 0.0, 1.0],\n",
    "    ])\n",
    "\n",
    "    K_r = np.array([[457.587, 0.0, 379.999],\n",
    "                    [0.0, 456.134, 255.238],\n",
    "                    [0.0, 0.0, 1]\n",
    "    ])\n",
    "    # transformations \n",
    "    T_B_C0 = np.array([\n",
    "        [0.0148655429818, -0.999880929698, 0.00414029679422, -0.0216401454975],\n",
    "        [0.999557249008, 0.0149672133247, 0.025715529948, -0.064676986768],\n",
    "        [-0.0257744366974, 0.00375618835797, 0.999660727178, 0.00981073058949],\n",
    "        [ 0.0, 0.0, 0.0, 1.0]\n",
    "    ])\n",
    "\n",
    "    T_B_C1 = np.array([\n",
    "        [0.0125552670891, -0.999755099723, 0.0182237714554, -0.0198435579556],\n",
    "        [0.999598781151, 0.0130119051815, 0.0251588363115, 0.0453689425024],\n",
    "        [-0.0253898008918, 0.0179005838253, 0.999517347078, 0.00786212447038],\n",
    "        [0.0, 0.0, 0.0, 1.0]\n",
    "    ])\n",
    "\n",
    "    # Rotation parameters\n",
    "    R_l = np.array([\n",
    "         [0.999966347530033, -0.001422739138722922, 0.008079580483432283], \n",
    "         [0.001365741834644127, 0.9999741760894847, 0.007055629199258132], \n",
    "        [-0.008089410156878961, -0.007044357138835809, 0.9999424675829176],\n",
    "    ])\n",
    "\n",
    "    R_r = np.array([\n",
    "         [0.9999633526194376, -0.003625811871560086, 0.007755443660172947], \n",
    "         [0.003680398547259526, 0.9999684752771629, -0.007035845251224894], \n",
    "        [-0.007729688520722713, 0.007064130529506649, 0.999945173484644],\n",
    "    ])\n",
    "\n",
    "    # distortion parameter\n",
    "    # \n",
    "    d_l = np.array([-0.28340811, 0.07395907, 0.00019359, 1.76187114e-05, 0.0])\n",
    "    d_r = np.array([-0.28368365, 0.07451284, -0.00010473, -3.555907e-05, 0.0])\n",
    "\n",
    "    # Projection\n",
    "    P_l = np.array([[435.2046959714599, 0, 367.4517211914062, 0],  \n",
    "                    [0, 435.2046959714599, 252.2008514404297, 0],  \n",
    "                    [0, 0, 1, 0]\n",
    "    ])\n",
    "\n",
    "    P_r = np.array([[435.2046959714599, 0, 367.4517211914062, -47.90639384423901],\n",
    "                    [ 0, 435.2046959714599, 252.2008514404297, 0], \n",
    "                    [0, 0, 1, 0]])\n",
    "    cam_L = {'T' : T_B_C0, 'k': K_l, 'd': d_l, 'R': R_l, 'P': P_l}\n",
    "    cam_R = {'T' : T_B_C1, 'k': K_r, 'd': d_r, 'R': R_r, 'P': P_r}\n",
    "    return cam_L, cam_R\n",
    "\n",
    "def rectification_map(cam_L:Dict, cam_R: Dict, image_shape) -> Tuple[np.ndarray, np.ndarray]:\n",
    "    \"\"\"\n",
    "    \"\"\"\n",
    "    map_l = cv.initUndistortRectifyMap(cam_L['k'], cam_L['d'], cam_L['R'], cam_L['P'], image_shape, cv.CV_32F)\n",
    "    map_r = cv.initUndistortRectifyMap(cam_R['k'], cam_R['d'], cam_R['R'], cam_R['P'], image_shape, cv.CV_32F)\n",
    "    print(f\"Shape of undistort map in stereo camera: {map_l.shape}\")\n",
    "    return map_l, map_r "
   ]
  },
  {
   "cell_type": "code",
   "execution_count": 24,
   "metadata": {},
   "outputs": [
    {
     "name": "stdout",
     "output_type": "stream",
     "text": [
      "left camera = {'T': array([[ 0.0149, -0.9999,  0.0041, -0.0216],\n",
      "       [ 0.9996,  0.015 ,  0.0257, -0.0647],\n",
      "       [-0.0258,  0.0038,  0.9997,  0.0098],\n",
      "       [ 0.    ,  0.    ,  0.    ,  1.    ]]), 'k': array([[458.654,   0.   , 367.215],\n",
      "       [  0.   , 457.296, 248.375],\n",
      "       [  0.   ,   0.   ,   1.   ]]), 'd': array([-2.8341e-01,  7.3959e-02,  1.9359e-04,  1.7619e-05,  0.0000e+00]), 'R': array([[ 1.    , -0.0014,  0.0081],\n",
      "       [ 0.0014,  1.    ,  0.0071],\n",
      "       [-0.0081, -0.007 ,  0.9999]]), 'P': array([[435.2047,   0.    , 367.4517,   0.    ],\n",
      "       [  0.    , 435.2047, 252.2009,   0.    ],\n",
      "       [  0.    ,   0.    ,   1.    ,   0.    ]])}\n",
      "right camera = {'T': array([[ 0.0126, -0.9998,  0.0182, -0.0198],\n",
      "       [ 0.9996,  0.013 ,  0.0252,  0.0454],\n",
      "       [-0.0254,  0.0179,  0.9995,  0.0079],\n",
      "       [ 0.    ,  0.    ,  0.    ,  1.    ]]), 'k': array([[457.587,   0.   , 379.999],\n",
      "       [  0.   , 456.134, 255.238],\n",
      "       [  0.   ,   0.   ,   1.   ]]), 'd': array([-2.8368e-01,  7.4513e-02, -1.0473e-04, -3.5559e-05,  0.0000e+00]), 'R': array([[ 1.    , -0.0036,  0.0078],\n",
      "       [ 0.0037,  1.    , -0.007 ],\n",
      "       [-0.0077,  0.0071,  0.9999]]), 'P': array([[435.2047,   0.    , 367.4517, -47.9064],\n",
      "       [  0.    , 435.2047, 252.2009,   0.    ],\n",
      "       [  0.    ,   0.    ,   1.    ,   0.    ]])}\n"
     ]
    }
   ],
   "source": [
    "cam_l, cam_r = euroc_stereo_cam_configuration()\n",
    "print(f'left camera = {cam_l}', sep=\" \")\n",
    "print(f'right camera = {cam_r}')"
   ]
  },
  {
   "cell_type": "code",
   "execution_count": 40,
   "metadata": {},
   "outputs": [
    {
     "name": "stdout",
     "output_type": "stream",
     "text": [
      "Transformation matrix right wrt left : \n",
      " [[ 1.0000e+00 -2.3171e-03 -3.4339e-04  1.1007e-01]\n",
      " [ 2.3121e-03  9.9990e-01 -1.4091e-02 -1.5661e-04]\n",
      " [ 3.7601e-04  1.4090e-02  9.9990e-01  8.8938e-04]\n",
      " [ 0.0000e+00  0.0000e+00  0.0000e+00  1.0000e+00]]\n",
      "Rotation matrix matrix right wrt left : \n",
      " [[ 1.0000e+00 -2.3171e-03 -3.4339e-04]\n",
      " [ 2.3121e-03  9.9990e-01 -1.4091e-02]\n",
      " [ 3.7601e-04  1.4090e-02  9.9990e-01]], \n",
      " Translation between two cameras: \n",
      " [ 0.1101 -0.0002  0.0009]\n",
      "Rotation matrix R : \n",
      " [[ 1.0000e+00 -2.3171e-03 -3.4339e-04]\n",
      " [ 2.3121e-03  9.9990e-01 -1.4091e-02]\n",
      " [ 3.7601e-04  1.4090e-02  9.9990e-01]]\n",
      "How close are the rotation matrix: \n",
      "True\n"
     ]
    }
   ],
   "source": [
    "R = cam_l['R'].T @ cam_r['R']\n",
    "T_lr = np.linalg.inv(cam_l['T']) @ cam_r['T'] \n",
    "# The translation vector is in the frame of left camera.\n",
    "# so the left camera is relatively an identity matrix here.\n",
    "t = T_lr[:3, 3]\n",
    "\n",
    "print(f'Transformation matrix right wrt left : \\n { T_lr}')\n",
    "print(f'Rotation matrix matrix right wrt left : \\n { T_lr[:3, :3]}, \\n Translation between two cameras: \\n {t.transpose()}')\n",
    "print(f'Rotation matrix R : \\n {R}')\n",
    "print(f'How close are the rotation matrix: \\n{np.allclose(R, T_lr[:3, :3])}')"
   ]
  },
  {
   "cell_type": "code",
   "execution_count": 42,
   "metadata": {},
   "outputs": [
    {
     "name": "stdout",
     "output_type": "stream",
     "text": [
      "rotated calibration matrix - right camera: \n",
      " [[ 4.5759e+02 -1.0569e+00  3.7941e+02]\n",
      " [ 1.0580e+00  4.5609e+02  2.5608e+02]\n",
      " [ 1.7206e-01  6.4269e+00  4.7390e+00]]\n"
     ]
    }
   ],
   "source": [
    "P = R@cam_r['k']\n",
    "print(f'rotated calibration matrix - right camera: \\n {P}')\n",
    "# We already have the Rotation and translation of the stereo camera given to us.\n",
    "# So we have not calculated the Essential matrix by matching points and then recovered pose from it.\n",
    "# We need to form the rectification matrix R_rect\n",
    "# https://www.cs.cmu.edu/~16385/s17/Slides/13.1_Stereo_Rectification.pdf\n",
    "# Get the epipole\n",
    "e = t/np.linalg.norm(t)\n",
    "# direction vector of optical axis\n",
    "# Now we are in the camera frame\n",
    "z_cam = np.array([0, 0, 1])\n",
    "r1 = e\n",
    "r2 = "
   ]
  },
  {
   "cell_type": "code",
   "execution_count": null,
   "metadata": {},
   "outputs": [],
   "source": []
  }
 ],
 "metadata": {
  "kernelspec": {
   "display_name": "Python 3",
   "language": "python",
   "name": "python3"
  },
  "language_info": {
   "codemirror_mode": {
    "name": "ipython",
    "version": 3
   },
   "file_extension": ".py",
   "mimetype": "text/x-python",
   "name": "python",
   "nbconvert_exporter": "python",
   "pygments_lexer": "ipython3",
   "version": "3.8.10"
  }
 },
 "nbformat": 4,
 "nbformat_minor": 2
}
